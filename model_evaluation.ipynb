{
 "cells": [
  {
   "cell_type": "code",
   "execution_count": 1,
   "metadata": {
    "collapsed": true
   },
   "outputs": [],
   "source": [
    "%matplotlib inline\n",
    "import numpy as np\n",
    "np.set_printoptions(edgeitems=10)\n",
    "import pandas as pd\n",
    "import matplotlib.pyplot as plt\n",
    "import seaborn as sns\n",
    "from sklearn.preprocessing import StandardScaler, LabelEncoder, OneHotEncoder, LabelBinarizer"
   ]
  },
  {
   "cell_type": "code",
   "execution_count": 2,
   "metadata": {
    "collapsed": false
   },
   "outputs": [
    {
     "data": {
      "text/html": [
       "<div>\n",
       "<table border=\"1\" class=\"dataframe\">\n",
       "  <thead>\n",
       "    <tr style=\"text-align: right;\">\n",
       "      <th></th>\n",
       "      <th>Survived</th>\n",
       "      <th>Pclass</th>\n",
       "      <th>Sex</th>\n",
       "      <th>Age</th>\n",
       "      <th>SibSp</th>\n",
       "      <th>Parch</th>\n",
       "      <th>Fare</th>\n",
       "      <th>Embarked</th>\n",
       "    </tr>\n",
       "  </thead>\n",
       "  <tbody>\n",
       "    <tr>\n",
       "      <th>0</th>\n",
       "      <td>0</td>\n",
       "      <td>3</td>\n",
       "      <td>male</td>\n",
       "      <td>22.0</td>\n",
       "      <td>1</td>\n",
       "      <td>0</td>\n",
       "      <td>7.2500</td>\n",
       "      <td>S</td>\n",
       "    </tr>\n",
       "    <tr>\n",
       "      <th>1</th>\n",
       "      <td>1</td>\n",
       "      <td>1</td>\n",
       "      <td>female</td>\n",
       "      <td>38.0</td>\n",
       "      <td>1</td>\n",
       "      <td>0</td>\n",
       "      <td>71.2833</td>\n",
       "      <td>C</td>\n",
       "    </tr>\n",
       "    <tr>\n",
       "      <th>2</th>\n",
       "      <td>1</td>\n",
       "      <td>3</td>\n",
       "      <td>female</td>\n",
       "      <td>26.0</td>\n",
       "      <td>0</td>\n",
       "      <td>0</td>\n",
       "      <td>7.9250</td>\n",
       "      <td>S</td>\n",
       "    </tr>\n",
       "    <tr>\n",
       "      <th>3</th>\n",
       "      <td>1</td>\n",
       "      <td>1</td>\n",
       "      <td>female</td>\n",
       "      <td>35.0</td>\n",
       "      <td>1</td>\n",
       "      <td>0</td>\n",
       "      <td>53.1000</td>\n",
       "      <td>S</td>\n",
       "    </tr>\n",
       "    <tr>\n",
       "      <th>4</th>\n",
       "      <td>0</td>\n",
       "      <td>3</td>\n",
       "      <td>male</td>\n",
       "      <td>35.0</td>\n",
       "      <td>0</td>\n",
       "      <td>0</td>\n",
       "      <td>8.0500</td>\n",
       "      <td>S</td>\n",
       "    </tr>\n",
       "  </tbody>\n",
       "</table>\n",
       "</div>"
      ],
      "text/plain": [
       "   Survived  Pclass     Sex   Age  SibSp  Parch     Fare Embarked\n",
       "0         0       3    male  22.0      1      0   7.2500        S\n",
       "1         1       1  female  38.0      1      0  71.2833        C\n",
       "2         1       3  female  26.0      0      0   7.9250        S\n",
       "3         1       1  female  35.0      1      0  53.1000        S\n",
       "4         0       3    male  35.0      0      0   8.0500        S"
      ]
     },
     "execution_count": 2,
     "metadata": {},
     "output_type": "execute_result"
    }
   ],
   "source": [
    "train_df = pd.read_csv('data/train.csv')\n",
    "test_df = pd.read_csv('data/test.csv')\n",
    "gm_df = pd.read_csv('data/gendermodel.csv')\n",
    "test_df.insert(1, 'Survived', gm_df['Survived'])\n",
    "train_df = train_df.drop(['PassengerId', 'Name', 'Ticket', 'Cabin'], axis=1)\n",
    "test_df = test_df.drop(['PassengerId', 'Name', 'Ticket', 'Cabin'], axis=1)\n",
    "train_df.head()"
   ]
  },
  {
   "cell_type": "code",
   "execution_count": 3,
   "metadata": {
    "collapsed": false
   },
   "outputs": [
    {
     "data": {
      "text/html": [
       "<div>\n",
       "<table border=\"1\" class=\"dataframe\">\n",
       "  <thead>\n",
       "    <tr style=\"text-align: right;\">\n",
       "      <th></th>\n",
       "      <th>Survived</th>\n",
       "      <th>Pclass</th>\n",
       "      <th>Sex</th>\n",
       "      <th>Age</th>\n",
       "      <th>Family</th>\n",
       "      <th>Fare</th>\n",
       "      <th>Embarked</th>\n",
       "    </tr>\n",
       "  </thead>\n",
       "  <tbody>\n",
       "    <tr>\n",
       "      <th>0</th>\n",
       "      <td>0</td>\n",
       "      <td>3</td>\n",
       "      <td>male</td>\n",
       "      <td>22.0</td>\n",
       "      <td>1</td>\n",
       "      <td>7.2500</td>\n",
       "      <td>S</td>\n",
       "    </tr>\n",
       "    <tr>\n",
       "      <th>1</th>\n",
       "      <td>1</td>\n",
       "      <td>1</td>\n",
       "      <td>female</td>\n",
       "      <td>38.0</td>\n",
       "      <td>1</td>\n",
       "      <td>71.2833</td>\n",
       "      <td>C</td>\n",
       "    </tr>\n",
       "    <tr>\n",
       "      <th>2</th>\n",
       "      <td>1</td>\n",
       "      <td>3</td>\n",
       "      <td>female</td>\n",
       "      <td>26.0</td>\n",
       "      <td>0</td>\n",
       "      <td>7.9250</td>\n",
       "      <td>S</td>\n",
       "    </tr>\n",
       "    <tr>\n",
       "      <th>3</th>\n",
       "      <td>1</td>\n",
       "      <td>1</td>\n",
       "      <td>female</td>\n",
       "      <td>35.0</td>\n",
       "      <td>1</td>\n",
       "      <td>53.1000</td>\n",
       "      <td>S</td>\n",
       "    </tr>\n",
       "    <tr>\n",
       "      <th>4</th>\n",
       "      <td>0</td>\n",
       "      <td>3</td>\n",
       "      <td>male</td>\n",
       "      <td>35.0</td>\n",
       "      <td>0</td>\n",
       "      <td>8.0500</td>\n",
       "      <td>S</td>\n",
       "    </tr>\n",
       "  </tbody>\n",
       "</table>\n",
       "</div>"
      ],
      "text/plain": [
       "   Survived  Pclass     Sex   Age  Family     Fare Embarked\n",
       "0         0       3    male  22.0       1   7.2500        S\n",
       "1         1       1  female  38.0       1  71.2833        C\n",
       "2         1       3  female  26.0       0   7.9250        S\n",
       "3         1       1  female  35.0       1  53.1000        S\n",
       "4         0       3    male  35.0       0   8.0500        S"
      ]
     },
     "execution_count": 3,
     "metadata": {},
     "output_type": "execute_result"
    }
   ],
   "source": [
    "test_df = test_df.dropna()\n",
    "train_df = train_df.dropna()\n",
    "def create_family(df):\n",
    "    family = df['SibSp'].values + df['Parch'].values\n",
    "    df = df.drop(['SibSp', 'Parch'], axis=1)\n",
    "    df.insert(4, 'Family', family)\n",
    "    return df\n",
    "train_df = create_family(train_df)\n",
    "test_df = create_family(test_df)\n",
    "train_df.head()"
   ]
  },
  {
   "cell_type": "code",
   "execution_count": 4,
   "metadata": {
    "collapsed": true
   },
   "outputs": [],
   "source": [
    "train_X = train_df.iloc[:, 1:].values\n",
    "train_y = train_df.iloc[:, 0].values\n",
    "test_X = test_df.iloc[:, 1:].values\n",
    "test_y = test_df.iloc[:,0].values"
   ]
  },
  {
   "cell_type": "code",
   "execution_count": 5,
   "metadata": {
    "collapsed": false
   },
   "outputs": [
    {
     "name": "stdout",
     "output_type": "stream",
     "text": [
      "['C' 'Q' 'S']\n"
     ]
    },
    {
     "data": {
      "text/plain": [
       "array([[1, 1, 22.0, 1, 7.25, 2],\n",
       "       [3, 0, 38.0, 1, 71.2833, 0],\n",
       "       [1, 0, 26.0, 0, 7.925, 2],\n",
       "       [3, 0, 35.0, 1, 53.1, 2],\n",
       "       [1, 1, 35.0, 0, 8.05, 2],\n",
       "       [3, 1, 54.0, 0, 51.8625, 2],\n",
       "       [1, 1, 2.0, 4, 21.075, 2],\n",
       "       [1, 0, 27.0, 2, 11.1333, 2],\n",
       "       [2, 0, 14.0, 1, 30.0708, 0],\n",
       "       [1, 0, 4.0, 2, 16.7, 2],\n",
       "       ..., \n",
       "       [2, 0, 25.0, 1, 26.0, 2],\n",
       "       [1, 1, 33.0, 0, 7.8958, 2],\n",
       "       [1, 0, 22.0, 0, 10.5167, 2],\n",
       "       [2, 1, 28.0, 0, 10.5, 2],\n",
       "       [1, 1, 25.0, 0, 7.05, 2],\n",
       "       [1, 0, 39.0, 5, 29.125, 1],\n",
       "       [2, 1, 27.0, 0, 13.0, 2],\n",
       "       [3, 0, 19.0, 0, 30.0, 2],\n",
       "       [3, 1, 26.0, 0, 30.0, 0],\n",
       "       [1, 1, 32.0, 0, 7.75, 1]], dtype=object)"
      ]
     },
     "execution_count": 5,
     "metadata": {},
     "output_type": "execute_result"
    }
   ],
   "source": [
    "# switch pclass labels since 1st class is greater than 3rd class\n",
    "map_dict = {1: 3, 2: 2, 3: 1}\n",
    "def val_map(val):\n",
    "    return map_dict[val]\n",
    "arr_map = np.vectorize(val_map)\n",
    "train_X[:, 0] = arr_map(train_X[:, 0])\n",
    "test_X[:, 0] = arr_map(test_X[:, 0])\n",
    "\n",
    "sex_le = LabelEncoder()\n",
    "train_X[:, 1] = sex_le.fit_transform(train_X[:, 1])\n",
    "test_X[:, 1] = sex_le.transform(test_X[:, 1])\n",
    "\n",
    "embarked_le = LabelEncoder()\n",
    "train_X[:, 5] = embarked_le.fit_transform(train_X[:, 5])\n",
    "test_X[:, 5] = embarked_le.transform(test_X[:, 5])\n",
    "print(embarked_le.classes_)\n",
    "\n",
    "train_X"
   ]
  },
  {
   "cell_type": "code",
   "execution_count": 9,
   "metadata": {
    "collapsed": false
   },
   "outputs": [
    {
     "name": "stdout",
     "output_type": "stream",
     "text": [
      "[0 2 5]\n"
     ]
    }
   ],
   "source": [
    "# now to do one hot encoding on the nominal features\n",
    "ohe = OneHotEncoder(categorical_features=[1, 5])\n",
    "ohe.fit(train_X)\n",
    "train_X = ohe.transform(train_X).toarray()"
   ]
  },
  {
   "cell_type": "code",
   "execution_count": 11,
   "metadata": {
    "collapsed": false
   },
   "outputs": [
    {
     "name": "stdout",
     "output_type": "stream",
     "text": [
      "0 Male\n",
      "1 Female\n",
      "2 Cherbourg\n",
      "3 Queenstown\n",
      "4 Southampton\n",
      "5 PClass\n",
      "6 Age\n",
      "7 Family\n",
      "8 Fare\n"
     ]
    }
   ],
   "source": [
    "# for future reference:\n",
    "total_features = [\n",
    "    'Male',\n",
    "    'Female',\n",
    "    'Cherbourg',\n",
    "    'Queenstown',\n",
    "    'Southampton',\n",
    "    'PClass',\n",
    "    'Age',\n",
    "    'Family',\n",
    "    'Fare'\n",
    "]\n",
    "for index, feature in zip(range(9), total_features):\n",
    "    print(index, feature)"
   ]
  },
  {
   "cell_type": "code",
   "execution_count": 12,
   "metadata": {
    "collapsed": false
   },
   "outputs": [
    {
     "data": {
      "text/plain": [
       "array([[ 22.    ,   1.    ,   7.25  ],\n",
       "       [ 38.    ,   1.    ,  71.2833],\n",
       "       [ 26.    ,   0.    ,   7.925 ],\n",
       "       [ 35.    ,   1.    ,  53.1   ],\n",
       "       [ 35.    ,   0.    ,   8.05  ],\n",
       "       [ 54.    ,   0.    ,  51.8625],\n",
       "       [  2.    ,   4.    ,  21.075 ],\n",
       "       [ 27.    ,   2.    ,  11.1333],\n",
       "       [ 14.    ,   1.    ,  30.0708],\n",
       "       [  4.    ,   2.    ,  16.7   ],\n",
       "       ..., \n",
       "       [ 25.    ,   1.    ,  26.    ],\n",
       "       [ 33.    ,   0.    ,   7.8958],\n",
       "       [ 22.    ,   0.    ,  10.5167],\n",
       "       [ 28.    ,   0.    ,  10.5   ],\n",
       "       [ 25.    ,   0.    ,   7.05  ],\n",
       "       [ 39.    ,   5.    ,  29.125 ],\n",
       "       [ 27.    ,   0.    ,  13.    ],\n",
       "       [ 19.    ,   0.    ,  30.    ],\n",
       "       [ 26.    ,   0.    ,  30.    ],\n",
       "       [ 32.    ,   0.    ,   7.75  ]])"
      ]
     },
     "execution_count": 12,
     "metadata": {},
     "output_type": "execute_result"
    }
   ],
   "source": [
    "scaler = StandardScaler()\n",
    "train_X[:, 6:] = scaler.fit_transform(train_X[:, 6:])\n",
    "test_X[:, 6:] = scaler.transform(test_X[:, 6:])"
   ]
  },
  {
   "cell_type": "code",
   "execution_count": null,
   "metadata": {
    "collapsed": true
   },
   "outputs": [],
   "source": []
  }
 ],
 "metadata": {
  "anaconda-cloud": {},
  "kernelspec": {
   "display_name": "Python [Root]",
   "language": "python",
   "name": "Python [Root]"
  },
  "language_info": {
   "codemirror_mode": {
    "name": "ipython",
    "version": 3
   },
   "file_extension": ".py",
   "mimetype": "text/x-python",
   "name": "python",
   "nbconvert_exporter": "python",
   "pygments_lexer": "ipython3",
   "version": "3.5.2"
  }
 },
 "nbformat": 4,
 "nbformat_minor": 0
}
